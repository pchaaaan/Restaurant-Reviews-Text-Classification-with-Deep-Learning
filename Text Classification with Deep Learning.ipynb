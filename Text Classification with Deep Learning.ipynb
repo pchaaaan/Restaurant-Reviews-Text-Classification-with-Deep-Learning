{
  "nbformat": 4,
  "nbformat_minor": 0,
  "metadata": {
    "colab": {
      "provenance": []
    },
    "kernelspec": {
      "name": "python3",
      "display_name": "Python 3"
    },
    "language_info": {
      "name": "python"
    }
  },
  "cells": [
    {
      "cell_type": "markdown",
      "source": [
        "Text Classification with Deep Learning"
      ],
      "metadata": {
        "id": "Snh40AY2R-jI"
      }
    },
    {
      "cell_type": "code",
      "execution_count": null,
      "metadata": {
        "id": "M65If29pLgDM"
      },
      "outputs": [],
      "source": [
        "import pandas as pd\n",
        "import numpy as np\n",
        "from sklearn.model_selection import train_test_split\n",
        "from tensorflow.keras.preprocessing.text import Tokenizer\n",
        "from tensorflow.keras.preprocessing.sequence import pad_sequences\n",
        "from tensorflow.keras.models import Sequential\n",
        "from tensorflow.keras.layers import Dense, Embedding, GRU, LSTM, Bidirectional\n",
        "from tensorflow.keras.initializers import Constant"
      ]
    },
    {
      "cell_type": "code",
      "source": [
        "# Loading the dataset into dataframe\n",
        "reviews = pd.read_csv(r\"/content/sample_data/restaurant_reviews_az.csv\")"
      ],
      "metadata": {
        "id": "qEEICxKCQSTC"
      },
      "execution_count": null,
      "outputs": []
    },
    {
      "cell_type": "code",
      "source": [
        "# Remove 3-star reviews\n",
        "reviews = reviews[reviews['stars'] != 3]\n",
        "\n",
        "# Create a new column 'Sentiment'\n",
        "reviews['Sentiment'] = reviews['stars'].apply(lambda x: 1 if x > 3 else 0)"
      ],
      "metadata": {
        "id": "7zhF54TdQSP6",
        "colab": {
          "base_uri": "https://localhost:8080/"
        },
        "outputId": "832e5f95-4c57-4bac-d8d1-a7ef138eb7ff"
      },
      "execution_count": null,
      "outputs": [
        {
          "output_type": "stream",
          "name": "stderr",
          "text": [
            "<ipython-input-3-d6e86aff40de>:5: SettingWithCopyWarning: \n",
            "A value is trying to be set on a copy of a slice from a DataFrame.\n",
            "Try using .loc[row_indexer,col_indexer] = value instead\n",
            "\n",
            "See the caveats in the documentation: https://pandas.pydata.org/pandas-docs/stable/user_guide/indexing.html#returning-a-view-versus-a-copy\n",
            "  reviews['Sentiment'] = reviews['stars'].apply(lambda x: 1 if x > 3 else 0)\n"
          ]
        }
      ]
    },
    {
      "cell_type": "code",
      "source": [
        "# Data Processing and Splitting\n",
        "text = reviews['text'].values\n",
        "labels = reviews['Sentiment'].values\n",
        "\n",
        "X_train, X_test, y_train, y_test = train_test_split(text, labels, test_size=0.2, random_state=42)\n",
        "\n",
        "tokenizer = Tokenizer()\n",
        "tokenizer.fit_on_texts(X_train)\n",
        "X_train_seq = tokenizer.texts_to_sequences(X_train)\n",
        "X_test_seq = tokenizer.texts_to_sequences(X_test)\n",
        "\n",
        "X_train_pad = pad_sequences(X_train_seq, maxlen=120, padding='post', truncating='post')\n",
        "X_test_pad = pad_sequences(X_test_seq, maxlen=120, padding='post', truncating='post')\n",
        "\n",
        "vocab_size = len(tokenizer.word_index) + 1"
      ],
      "metadata": {
        "id": "fFfR9np7oMoW"
      },
      "execution_count": null,
      "outputs": []
    },
    {
      "cell_type": "code",
      "source": [
        "# Preparing GloVe embedding matrix\n",
        "embeddings_index = {}\n",
        "with open('/content/sample_data/glove.6B.100d.txt', encoding='utf8') as f:\n",
        "    for line in f:\n",
        "        values = line.split()\n",
        "        word = values[0]\n",
        "        coefs = np.asarray(values[1:], dtype='float32')\n",
        "        embeddings_index[word] = coefs\n",
        "\n",
        "embedding_matrix = np.zeros((vocab_size, 100))\n",
        "for word, i in tokenizer.word_index.items():\n",
        "    embedding_vector = embeddings_index.get(word)\n",
        "    if embedding_vector is not None:\n",
        "        embedding_matrix[i] = embedding_vector\n"
      ],
      "metadata": {
        "id": "x14X5nAaoMff"
      },
      "execution_count": null,
      "outputs": []
    },
    {
      "cell_type": "code",
      "source": [
        "embedding_matrix.shape"
      ],
      "metadata": {
        "colab": {
          "base_uri": "https://localhost:8080/"
        },
        "id": "VVQu_UYPFfOq",
        "outputId": "2d5d7a2c-72af-4170-97e3-0e558b2b433c"
      },
      "execution_count": null,
      "outputs": [
        {
          "output_type": "execute_result",
          "data": {
            "text/plain": [
              "(33420, 100)"
            ]
          },
          "metadata": {},
          "execution_count": 11
        }
      ]
    },
    {
      "cell_type": "code",
      "source": [
        "# GRU Model with Pre-trained GloVe Embedding\n",
        "model_gru_glove = Sequential([\n",
        "    Embedding(vocab_size, 100, embeddings_initializer=Constant(embedding_matrix),\n",
        "              input_length=120, trainable=False),\n",
        "    GRU(units=64),\n",
        "    Dense(24, activation='relu'),\n",
        "    Dense(1, activation='sigmoid')\n",
        "])\n",
        "\n",
        "model_gru_glove.compile(optimizer='adam', loss='binary_crossentropy', metrics=['accuracy'])\n",
        "model_gru_glove.summary()\n",
        "\n",
        "history_gru_glove = model_gru_glove.fit(X_train_pad, y_train, epochs=20, validation_data=(X_test_pad, y_test))"
      ],
      "metadata": {
        "colab": {
          "base_uri": "https://localhost:8080/"
        },
        "id": "ysSwkpyaoMKL",
        "outputId": "d4021863-8743-4106-c739-3ab75a44e3ad"
      },
      "execution_count": null,
      "outputs": [
        {
          "output_type": "stream",
          "name": "stdout",
          "text": [
            "Model: \"sequential_4\"\n",
            "_________________________________________________________________\n",
            " Layer (type)                Output Shape              Param #   \n",
            "=================================================================\n",
            " embedding_4 (Embedding)     (None, 120, 100)          3342000   \n",
            "                                                                 \n",
            " gru_4 (GRU)                 (None, 64)                31872     \n",
            "                                                                 \n",
            " dense_6 (Dense)             (None, 24)                1560      \n",
            "                                                                 \n",
            " dense_7 (Dense)             (None, 1)                 25        \n",
            "                                                                 \n",
            "=================================================================\n",
            "Total params: 3375457 (12.88 MB)\n",
            "Trainable params: 33457 (130.69 KB)\n",
            "Non-trainable params: 3342000 (12.75 MB)\n",
            "_________________________________________________________________\n",
            "Epoch 1/20\n",
            "1103/1103 [==============================] - 45s 39ms/step - loss: 0.5144 - accuracy: 0.7662 - val_loss: 0.3012 - val_accuracy: 0.8985\n",
            "Epoch 2/20\n",
            "1103/1103 [==============================] - 41s 37ms/step - loss: 0.2292 - accuracy: 0.9154 - val_loss: 0.1749 - val_accuracy: 0.9354\n",
            "Epoch 3/20\n",
            "1103/1103 [==============================] - 40s 36ms/step - loss: 0.1600 - accuracy: 0.9375 - val_loss: 0.1543 - val_accuracy: 0.9418\n",
            "Epoch 4/20\n",
            "1103/1103 [==============================] - 40s 36ms/step - loss: 0.1390 - accuracy: 0.9458 - val_loss: 0.1414 - val_accuracy: 0.9444\n",
            "Epoch 5/20\n",
            "1103/1103 [==============================] - 40s 36ms/step - loss: 0.1253 - accuracy: 0.9515 - val_loss: 0.1330 - val_accuracy: 0.9487\n",
            "Epoch 6/20\n",
            "1103/1103 [==============================] - 41s 37ms/step - loss: 0.1139 - accuracy: 0.9564 - val_loss: 0.1301 - val_accuracy: 0.9510\n",
            "Epoch 7/20\n",
            "1103/1103 [==============================] - 40s 36ms/step - loss: 0.1026 - accuracy: 0.9607 - val_loss: 0.1321 - val_accuracy: 0.9519\n",
            "Epoch 8/20\n",
            "1103/1103 [==============================] - 40s 36ms/step - loss: 0.0892 - accuracy: 0.9668 - val_loss: 0.1321 - val_accuracy: 0.9506\n",
            "Epoch 9/20\n",
            "1103/1103 [==============================] - 42s 38ms/step - loss: 0.0786 - accuracy: 0.9710 - val_loss: 0.1619 - val_accuracy: 0.9455\n",
            "Epoch 10/20\n",
            "1103/1103 [==============================] - 39s 36ms/step - loss: 0.0665 - accuracy: 0.9765 - val_loss: 0.1351 - val_accuracy: 0.9502\n",
            "Epoch 11/20\n",
            "1103/1103 [==============================] - 39s 36ms/step - loss: 0.0574 - accuracy: 0.9802 - val_loss: 0.1468 - val_accuracy: 0.9472\n",
            "Epoch 12/20\n",
            "1103/1103 [==============================] - 39s 36ms/step - loss: 0.0470 - accuracy: 0.9839 - val_loss: 0.1755 - val_accuracy: 0.9480\n",
            "Epoch 13/20\n",
            "1103/1103 [==============================] - 43s 39ms/step - loss: 0.0382 - accuracy: 0.9872 - val_loss: 0.1690 - val_accuracy: 0.9461\n",
            "Epoch 14/20\n",
            "1103/1103 [==============================] - 43s 39ms/step - loss: 0.0325 - accuracy: 0.9890 - val_loss: 0.1831 - val_accuracy: 0.9482\n",
            "Epoch 15/20\n",
            "1103/1103 [==============================] - 40s 36ms/step - loss: 0.0279 - accuracy: 0.9915 - val_loss: 0.2073 - val_accuracy: 0.9417\n",
            "Epoch 16/20\n",
            "1103/1103 [==============================] - 40s 36ms/step - loss: 0.0248 - accuracy: 0.9921 - val_loss: 0.1950 - val_accuracy: 0.9473\n",
            "Epoch 17/20\n",
            "1103/1103 [==============================] - 42s 38ms/step - loss: 0.0225 - accuracy: 0.9931 - val_loss: 0.2290 - val_accuracy: 0.9441\n",
            "Epoch 18/20\n",
            "1103/1103 [==============================] - 40s 36ms/step - loss: 0.0152 - accuracy: 0.9955 - val_loss: 0.2356 - val_accuracy: 0.9433\n",
            "Epoch 19/20\n",
            "1103/1103 [==============================] - 40s 36ms/step - loss: 0.0145 - accuracy: 0.9954 - val_loss: 0.2736 - val_accuracy: 0.9468\n",
            "Epoch 20/20\n",
            "1103/1103 [==============================] - 41s 37ms/step - loss: 0.0149 - accuracy: 0.9953 - val_loss: 0.2850 - val_accuracy: 0.9383\n"
          ]
        }
      ]
    },
    {
      "cell_type": "code",
      "source": [
        "# LSTM Model with Pre-trained GloVe Embedding\n",
        "model_lstm_glove = Sequential([\n",
        "    Embedding(vocab_size, 100, embeddings_initializer=Constant(embedding_matrix),\n",
        "              input_length=120, trainable=False),\n",
        "    LSTM(units=64),\n",
        "    Dense(24, activation='relu'),\n",
        "    Dense(1, activation='sigmoid')\n",
        "])\n",
        "\n",
        "model_lstm_glove.compile(optimizer='adam', loss='binary_crossentropy', metrics=['accuracy'])\n",
        "model_lstm_glove.summary()\n",
        "\n",
        "history_lstm_glove = model_lstm_glove.fit(X_train_pad, y_train, epochs=20, validation_data=(X_test_pad, y_test))"
      ],
      "metadata": {
        "colab": {
          "base_uri": "https://localhost:8080/"
        },
        "id": "m-0moQKBoL-e",
        "outputId": "94d6474a-1bdc-4fa4-ba43-96c7239f5efa"
      },
      "execution_count": null,
      "outputs": [
        {
          "output_type": "stream",
          "name": "stdout",
          "text": [
            "Model: \"sequential_6\"\n",
            "_________________________________________________________________\n",
            " Layer (type)                Output Shape              Param #   \n",
            "=================================================================\n",
            " embedding_7 (Embedding)     (None, 120, 100)          3342000   \n",
            "                                                                 \n",
            " lstm_2 (LSTM)               (None, 64)                42240     \n",
            "                                                                 \n",
            " dense_10 (Dense)            (None, 24)                1560      \n",
            "                                                                 \n",
            " dense_11 (Dense)            (None, 1)                 25        \n",
            "                                                                 \n",
            "=================================================================\n",
            "Total params: 3385825 (12.92 MB)\n",
            "Trainable params: 43825 (171.19 KB)\n",
            "Non-trainable params: 3342000 (12.75 MB)\n",
            "_________________________________________________________________\n",
            "Epoch 1/20\n",
            "1103/1103 [==============================] - 44s 39ms/step - loss: 0.5591 - accuracy: 0.7429 - val_loss: 0.5694 - val_accuracy: 0.7105\n",
            "Epoch 2/20\n",
            "1103/1103 [==============================] - 47s 43ms/step - loss: 0.2869 - accuracy: 0.8787 - val_loss: 0.1829 - val_accuracy: 0.9282\n",
            "Epoch 3/20\n",
            "1103/1103 [==============================] - 44s 40ms/step - loss: 0.1767 - accuracy: 0.9309 - val_loss: 0.1622 - val_accuracy: 0.9364\n",
            "Epoch 4/20\n",
            "1103/1103 [==============================] - 43s 39ms/step - loss: 0.1593 - accuracy: 0.9381 - val_loss: 0.1479 - val_accuracy: 0.9438\n",
            "Epoch 5/20\n",
            "1103/1103 [==============================] - 44s 40ms/step - loss: 0.1458 - accuracy: 0.9441 - val_loss: 0.1442 - val_accuracy: 0.9442\n",
            "Epoch 6/20\n",
            "1103/1103 [==============================] - 42s 38ms/step - loss: 0.1359 - accuracy: 0.9489 - val_loss: 0.1438 - val_accuracy: 0.9446\n",
            "Epoch 7/20\n",
            "1103/1103 [==============================] - 44s 40ms/step - loss: 0.1265 - accuracy: 0.9520 - val_loss: 0.1461 - val_accuracy: 0.9458\n",
            "Epoch 8/20\n",
            "1103/1103 [==============================] - 44s 40ms/step - loss: 0.1165 - accuracy: 0.9558 - val_loss: 0.1368 - val_accuracy: 0.9481\n",
            "Epoch 9/20\n",
            "1103/1103 [==============================] - 43s 39ms/step - loss: 0.1100 - accuracy: 0.9594 - val_loss: 0.1377 - val_accuracy: 0.9474\n",
            "Epoch 10/20\n",
            "1103/1103 [==============================] - 43s 39ms/step - loss: 0.0992 - accuracy: 0.9633 - val_loss: 0.1418 - val_accuracy: 0.9466\n",
            "Epoch 11/20\n",
            "1103/1103 [==============================] - 42s 38ms/step - loss: 0.0912 - accuracy: 0.9655 - val_loss: 0.1407 - val_accuracy: 0.9464\n",
            "Epoch 12/20\n",
            "1103/1103 [==============================] - 42s 38ms/step - loss: 0.0833 - accuracy: 0.9688 - val_loss: 0.1518 - val_accuracy: 0.9486\n",
            "Epoch 13/20\n",
            "1103/1103 [==============================] - 44s 40ms/step - loss: 0.0705 - accuracy: 0.9750 - val_loss: 0.1631 - val_accuracy: 0.9494\n",
            "Epoch 14/20\n",
            "1103/1103 [==============================] - 42s 38ms/step - loss: 0.0642 - accuracy: 0.9781 - val_loss: 0.1651 - val_accuracy: 0.9470\n",
            "Epoch 15/20\n",
            "1103/1103 [==============================] - 42s 38ms/step - loss: 0.0548 - accuracy: 0.9817 - val_loss: 0.1806 - val_accuracy: 0.9478\n",
            "Epoch 16/20\n",
            "1103/1103 [==============================] - 43s 39ms/step - loss: 0.0480 - accuracy: 0.9841 - val_loss: 0.1898 - val_accuracy: 0.9469\n",
            "Epoch 17/20\n",
            "1103/1103 [==============================] - 43s 39ms/step - loss: 0.0425 - accuracy: 0.9864 - val_loss: 0.1930 - val_accuracy: 0.9418\n",
            "Epoch 18/20\n",
            "1103/1103 [==============================] - 42s 38ms/step - loss: 0.0356 - accuracy: 0.9891 - val_loss: 0.1973 - val_accuracy: 0.9443\n",
            "Epoch 19/20\n",
            "1103/1103 [==============================] - 42s 38ms/step - loss: 0.0330 - accuracy: 0.9904 - val_loss: 0.2227 - val_accuracy: 0.9406\n",
            "Epoch 20/20\n",
            "1103/1103 [==============================] - 43s 39ms/step - loss: 0.0308 - accuracy: 0.9909 - val_loss: 0.2303 - val_accuracy: 0.9456\n"
          ]
        }
      ]
    },
    {
      "cell_type": "code",
      "source": [
        "# GRU Model with Trainable Embeddings\n",
        "model_gru = Sequential([\n",
        "    Embedding(vocab_size, 100, input_length=120),\n",
        "    GRU(units=64),\n",
        "    Dense(24, activation='relu'),\n",
        "    Dense(1, activation='sigmoid')\n",
        "])\n",
        "\n",
        "model_gru.compile(optimizer='adam', loss='binary_crossentropy', metrics=['accuracy'])\n",
        "model_gru.summary()\n",
        "\n",
        "history_gru = model_gru.fit(X_train_pad, y_train, epochs=5, validation_data=(X_test_pad, y_test))"
      ],
      "metadata": {
        "colab": {
          "base_uri": "https://localhost:8080/"
        },
        "id": "8iCX_X6atyEE",
        "outputId": "4ba21229-5d02-4e8c-905a-16c981c61c0a"
      },
      "execution_count": null,
      "outputs": [
        {
          "output_type": "stream",
          "name": "stdout",
          "text": [
            "Model: \"sequential_8\"\n",
            "_________________________________________________________________\n",
            " Layer (type)                Output Shape              Param #   \n",
            "=================================================================\n",
            " embedding_9 (Embedding)     (None, 120, 100)          3342000   \n",
            "                                                                 \n",
            " gru_6 (GRU)                 (None, 64)                31872     \n",
            "                                                                 \n",
            " dense_14 (Dense)            (None, 24)                1560      \n",
            "                                                                 \n",
            " dense_15 (Dense)            (None, 1)                 25        \n",
            "                                                                 \n",
            "=================================================================\n",
            "Total params: 3375457 (12.88 MB)\n",
            "Trainable params: 3375457 (12.88 MB)\n",
            "Non-trainable params: 0 (0.00 Byte)\n",
            "_________________________________________________________________\n",
            "Epoch 1/5\n",
            "1103/1103 [==============================] - 70s 62ms/step - loss: 0.4516 - accuracy: 0.7860 - val_loss: 0.2012 - val_accuracy: 0.9240\n",
            "Epoch 2/5\n",
            "1103/1103 [==============================] - 65s 59ms/step - loss: 0.1290 - accuracy: 0.9518 - val_loss: 0.1183 - val_accuracy: 0.9556\n",
            "Epoch 3/5\n",
            "1103/1103 [==============================] - 66s 60ms/step - loss: 0.0644 - accuracy: 0.9771 - val_loss: 0.1339 - val_accuracy: 0.9552\n",
            "Epoch 4/5\n",
            "1103/1103 [==============================] - 66s 59ms/step - loss: 0.0355 - accuracy: 0.9891 - val_loss: 0.1678 - val_accuracy: 0.9418\n",
            "Epoch 5/5\n",
            "1103/1103 [==============================] - 66s 60ms/step - loss: 0.0206 - accuracy: 0.9940 - val_loss: 0.1897 - val_accuracy: 0.9443\n"
          ]
        }
      ]
    }
  ]
}